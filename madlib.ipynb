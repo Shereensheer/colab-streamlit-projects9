{
  "nbformat": 4,
  "nbformat_minor": 0,
  "metadata": {
    "colab": {
      "provenance": [],
      "authorship_tag": "ABX9TyMnaSMDI6Tt1sAW0TI6HSpq",
      "include_colab_link": true
    },
    "kernelspec": {
      "name": "python3",
      "display_name": "Python 3"
    },
    "language_info": {
      "name": "python"
    }
  },
  "cells": [
    {
      "cell_type": "markdown",
      "metadata": {
        "id": "view-in-github",
        "colab_type": "text"
      },
      "source": [
        "<a href=\"https://colab.research.google.com/github/Shereensheer/colab-streamlit-projects9/blob/main/madlib.ipynb\" target=\"_parent\"><img src=\"https://colab.research.google.com/assets/colab-badge.svg\" alt=\"Open In Colab\"/></a>"
      ]
    },
    {
      "cell_type": "code",
      "execution_count": null,
      "metadata": {
        "id": "GE_3I0ATlyxX"
      },
      "outputs": [],
      "source": [
        "import random\n",
        "\n",
        "print(\"Hello! \")\n",
        "print(\"Enter your name\")\n",
        "# string concatenation (aka how to put string together)\n",
        "# suppose we want to create astring that says \"subscribe to ___\"\n",
        "# some string variable\n",
        "name = input(\"Full Name :\")\n",
        "\n",
        "# a few ways to do this\n",
        "print (\"Welcome to madlib game\" + name)\n",
        "print(\"Lets start the game!\")\n",
        "\n",
        "\n",
        "adj = input(\"Adjective:\")\n",
        "verb1 = input(\"verb:\")\n",
        "verb2 = input(\"verb:\")\n",
        "famous_person = input(\"Famous person:\")\n",
        "\n",
        "madlib = f\" Computer programing is so {adj}! It makes me so excited all the time because \\\n",
        "I love to {verb1}. stay Hydrated and {verb2} like you are {famous_person}!\"\n",
        "\n",
        "print(madlib)\n",
        "\n",
        "\n"
      ]
    }
  ]
}
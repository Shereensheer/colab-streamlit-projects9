{
  "nbformat": 4,
  "nbformat_minor": 0,
  "metadata": {
    "colab": {
      "provenance": [],
      "authorship_tag": "ABX9TyPXzz3CTmjUYKkxiXQR6pyt",
      "include_colab_link": true
    },
    "kernelspec": {
      "name": "python3",
      "display_name": "Python 3"
    },
    "language_info": {
      "name": "python"
    }
  },
  "cells": [
    {
      "cell_type": "markdown",
      "metadata": {
        "id": "view-in-github",
        "colab_type": "text"
      },
      "source": [
        "<a href=\"https://colab.research.google.com/github/Shereensheer/colab-streamlit-projects9/blob/main/password_genrater.ipynb\" target=\"_parent\"><img src=\"https://colab.research.google.com/assets/colab-badge.svg\" alt=\"Open In Colab\"/></a>"
      ]
    },
    {
      "cell_type": "code",
      "source": [
        "\n",
        "import random\n",
        "\n",
        "print('welcome To your password Generator')\n",
        "\n",
        "chars = 'abcdefghijklmnopqrstuvwxyzABCDEFGHIJKLMNOPQRSTUVWXYZ!@E$%^&*().,?0123456789'\n",
        "\n",
        "number = input('Amount of passwords to generate: ')\n",
        "number = int(number)\n",
        "\n",
        "lenght = input('Your password lenght: ')\n",
        "lenght = int(lenght)\n",
        "\n",
        "print('\\nhere are your paswords:')\n",
        "\n",
        "for pwd in range(number):\n",
        "  passwords = ''\n",
        "  for c in range(lenght):\n",
        "    passwords += random.choice(chars)\n",
        "  print(passwords)\n",
        "\n"
      ],
      "metadata": {
        "colab": {
          "base_uri": "https://localhost:8080/"
        },
        "id": "rHjXOW3SeqOU",
        "outputId": "bfade56c-3f6a-40b9-cf95-9e1021ddb941"
      },
      "execution_count": null,
      "outputs": [
        {
          "output_type": "stream",
          "name": "stdout",
          "text": [
            "welcome To your password Generator\n",
            "Amount of passwords to generate: 8\n",
            "Your password lenght: 9\n",
            "\n",
            "here are your paswords:\n",
            "@q4E8ZocE\n",
            "GfFCsHmkI\n",
            "qkT2$Bz!t\n",
            "ZwnjdJA7W\n",
            "C)%kh.oHi\n",
            "BbiLvs)LX\n",
            "3%I1XqGMf\n",
            "@4G7O,B%p\n"
          ]
        }
      ]
    }
  ]
}
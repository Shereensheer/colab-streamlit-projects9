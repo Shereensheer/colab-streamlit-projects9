{
  "nbformat": 4,
  "nbformat_minor": 0,
  "metadata": {
    "colab": {
      "provenance": [],
      "authorship_tag": "ABX9TyO9teLCMepbnF/UU+PHli1Z",
      "include_colab_link": true
    },
    "kernelspec": {
      "name": "python3",
      "display_name": "Python 3"
    },
    "language_info": {
      "name": "python"
    }
  },
  "cells": [
    {
      "cell_type": "markdown",
      "metadata": {
        "id": "view-in-github",
        "colab_type": "text"
      },
      "source": [
        "<a href=\"https://colab.research.google.com/github/Shereensheer/colab-streamlit-projects9/blob/main/gassgamer_user.ipynb\" target=\"_parent\"><img src=\"https://colab.research.google.com/assets/colab-badge.svg\" alt=\"Open In Colab\"/></a>"
      ]
    },
    {
      "cell_type": "code",
      "execution_count": null,
      "metadata": {
        "id": "fRXpveqshn2u",
        "colab": {
          "base_uri": "https://localhost:8080/"
        },
        "outputId": "ca67c065-f5fb-4f37-a021-85bcb4fe5cca"
      },
      "outputs": [
        {
          "name": "stdout",
          "output_type": "stream",
          "text": [
            "Is 8 too high (H), too low (L), or correct (c)??h\n",
            "Is 6 too high (H), too low (L), or correct (c)??6\n",
            "Is 7 too high (H), too low (L), or correct (c)??h\n",
            "Is 2 too high (H), too low (L), or correct (c)??l\n"
          ]
        }
      ],
      "source": [
        "import random\n",
        "\n",
        "def guess(x):\n",
        "    random_number = random.randint(1,x)\n",
        "    guess= 0\n",
        "    while guess != random_number:\n",
        "       guess = int(input(f'Guess a number between 1 and {x}:'))\n",
        "       if guess < random_number:\n",
        "          print('sorry, guess again. Too low.')\n",
        "       elif guess > random_number:\n",
        "          print('sorry, guess again. Too high')\n",
        "\n",
        "    print(f'Yay, congrats. you have guessed the number {random_number} correctly!!')\n",
        "\n",
        "def computer_guess(x):\n",
        "    low = 1\n",
        "    high = x\n",
        "    feedback = ''\n",
        "    while feedback != \"c\":\n",
        "       if low != high:\n",
        "          guess = random.randint(low,high)\n",
        "       else:\n",
        "          guess = low  # could also be high b/c low = high\n",
        "       feedback = input(f'Is {guess} too high (H), too low (L), or correct (c)??').lower()\n",
        "       if feedback == 'h':\n",
        "         high = guess - 1\n",
        "       elif feedback == 'l':\n",
        "        low = guess + 1\n",
        "\n",
        "    print(f'Yay! The computer guessed your number, {guess}, correctly!')\n",
        "\n",
        "\n",
        "computer_guess(10)\n"
      ]
    }
  ]
}
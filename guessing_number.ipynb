{
  "nbformat": 4,
  "nbformat_minor": 0,
  "metadata": {
    "colab": {
      "provenance": [],
      "authorship_tag": "ABX9TyMtKmSM55pmzRztx27LzjPP",
      "include_colab_link": true
    },
    "kernelspec": {
      "name": "python3",
      "display_name": "Python 3"
    },
    "language_info": {
      "name": "python"
    }
  },
  "cells": [
    {
      "cell_type": "markdown",
      "metadata": {
        "id": "view-in-github",
        "colab_type": "text"
      },
      "source": [
        "<a href=\"https://colab.research.google.com/github/Shereensheer/colab-streamlit-projects9/blob/main/guessing_number.ipynb\" target=\"_parent\"><img src=\"https://colab.research.google.com/assets/colab-badge.svg\" alt=\"Open In Colab\"/></a>"
      ]
    },
    {
      "cell_type": "code",
      "execution_count": null,
      "metadata": {
        "colab": {
          "base_uri": "https://localhost:8080/"
        },
        "id": "Y71z63v9kyaK",
        "outputId": "41286e18-47c5-495e-dc56-bcae78106786"
      },
      "outputs": [
        {
          "output_type": "stream",
          "name": "stdout",
          "text": [
            "Welcome to the Number Guessing Game!\n",
            "Guess a number between 50 and 100.\n",
            "You have 5 attempts.\n",
            "Let's start!\n",
            "Please enter your guess: 77\n",
            "your guess is very high, try again!\n",
            "Please enter your guess: 10\n",
            "your guess is very low, try again!\n",
            "Please enter your guess: 38\n",
            "your guess is very low, try again!\n",
            "Please enter your guess: 50\n",
            "your guess is very low, try again!\n",
            "Please enter your guess: 69\n",
            "Oops sorry, the number is 64 better luck next time!\n"
          ]
        }
      ],
      "source": [
        "import random\n",
        "print(\"Welcome to the Number Guessing Game!\")\n",
        "print(\"Guess a number between 50 and 100.\")\n",
        "print(\"You have 5 attempts.\")\n",
        "print(\"Let's start!\")\n",
        "\n",
        "\n",
        "number_to_guess = random.randrange(50, 101)\n",
        "\n",
        "max_attempts = 5\n",
        "\n",
        "attempts_taken = 0\n",
        "\n",
        "\n",
        "while attempts_taken < max_attempts:\n",
        "\n",
        "    attempts_taken += 1\n",
        "    user_guess = int(input(\"Please enter your guess: \"))\n",
        "\n",
        "    if user_guess == number_to_guess:\n",
        "        print(\n",
        "            f\"The number is {number_to_guess} and you found it right!! in the {attempts_taken} attempt\"\n",
        "        )\n",
        "        break\n",
        "\n",
        "\n",
        "    elif attempts_taken >= max_attempts and user_guess != number_to_guess:\n",
        "        print(f\"Oops sorry, the number is {number_to_guess} better luck next time!\")\n",
        "\n",
        "\n",
        "    elif user_guess > number_to_guess:\n",
        "        print(\"your guess is very high, try again!\")\n",
        "\n",
        "    elif user_guess < number_to_guess:\n",
        "        print(\"your guess is very low, try again!\")"
      ]
    }
  ]
}